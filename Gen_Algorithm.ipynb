{
  "cells": [
    {
      "cell_type": "code",
      "source": [
        "import random\n",
        "import nltk\n",
        "from nltk.corpus import words, brown, wordnet\n",
        "from transformers import AutoTokenizer, AutoModelForSequenceClassification\n",
        "import textstat\n",
        "import matplotlib.pyplot as plt"
      ],
      "metadata": {
        "colab": {
          "base_uri": "https://localhost:8080/",
          "height": 376
        },
        "id": "rUTMN9f5Id8i",
        "outputId": "4728e195-0344-4a7e-bec1-19b468cac783"
      },
      "id": "rUTMN9f5Id8i",
      "execution_count": 1,
      "outputs": [
        {
          "output_type": "error",
          "ename": "ModuleNotFoundError",
          "evalue": "ignored",
          "traceback": [
            "\u001b[0;31m---------------------------------------------------------------------------\u001b[0m",
            "\u001b[0;31mModuleNotFoundError\u001b[0m                       Traceback (most recent call last)",
            "\u001b[0;32m<ipython-input-1-0e1c631efb78>\u001b[0m in \u001b[0;36m<cell line: 5>\u001b[0;34m()\u001b[0m\n\u001b[1;32m      3\u001b[0m \u001b[0;32mfrom\u001b[0m \u001b[0mnltk\u001b[0m\u001b[0;34m.\u001b[0m\u001b[0mcorpus\u001b[0m \u001b[0;32mimport\u001b[0m \u001b[0mwords\u001b[0m\u001b[0;34m,\u001b[0m \u001b[0mbrown\u001b[0m\u001b[0;34m,\u001b[0m \u001b[0mwordnet\u001b[0m\u001b[0;34m\u001b[0m\u001b[0;34m\u001b[0m\u001b[0m\n\u001b[1;32m      4\u001b[0m \u001b[0;32mfrom\u001b[0m \u001b[0mtransformers\u001b[0m \u001b[0;32mimport\u001b[0m \u001b[0mAutoTokenizer\u001b[0m\u001b[0;34m,\u001b[0m \u001b[0mAutoModelForSequenceClassification\u001b[0m\u001b[0;34m\u001b[0m\u001b[0;34m\u001b[0m\u001b[0m\n\u001b[0;32m----> 5\u001b[0;31m \u001b[0;32mimport\u001b[0m \u001b[0mtextstat\u001b[0m\u001b[0;34m\u001b[0m\u001b[0;34m\u001b[0m\u001b[0m\n\u001b[0m\u001b[1;32m      6\u001b[0m \u001b[0;32mimport\u001b[0m \u001b[0mmatplotlib\u001b[0m\u001b[0;34m.\u001b[0m\u001b[0mpyplot\u001b[0m \u001b[0;32mas\u001b[0m \u001b[0mplt\u001b[0m\u001b[0;34m\u001b[0m\u001b[0;34m\u001b[0m\u001b[0m\n",
            "\u001b[0;31mModuleNotFoundError\u001b[0m: No module named 'textstat'",
            "",
            "\u001b[0;31m---------------------------------------------------------------------------\u001b[0;32m\nNOTE: If your import is failing due to a missing package, you can\nmanually install dependencies using either !pip or !apt.\n\nTo view examples of installing some common dependencies, click the\n\"Open Examples\" button below.\n\u001b[0;31m---------------------------------------------------------------------------\u001b[0m\n"
          ],
          "errorDetails": {
            "actions": [
              {
                "action": "open_url",
                "actionText": "Open Examples",
                "url": "/notebooks/snippets/importing_libraries.ipynb"
              }
            ]
          }
        }
      ]
    },
    {
      "cell_type": "code",
      "source": [
        "# Desired outputs for the fitness function\n",
        "DESIRED_OUTPUTS = {\n",
        "    \"rouge_l\": 0.7,\n",
        "    \"readability\": 8,\n",
        "    \"human_score\": 4,\n",
        "}"
      ],
      "metadata": {
        "id": "lfdle4krIiDG"
      },
      "id": "lfdle4krIiDG",
      "execution_count": null,
      "outputs": []
    },
    {
      "cell_type": "code",
      "source": [
        "\n",
        "\n",
        "# Chromosome class represents an individual in the population\n",
        "class Chromosome:\n",
        "    def __init__(self, genes):\n",
        "        self.genes = genes\n",
        "\n",
        "    def to_prompt(self):\n",
        "        prompt = \" \".join(map(str, self.genes))\n",
        "        # Ensure the prompt ends with a period\n",
        "        return prompt.capitalize() + '.' if not prompt.endswith('.') else prompt\n",
        "\n"
      ],
      "metadata": {
        "id": "rdiLXUmgIkDY"
      },
      "id": "rdiLXUmgIkDY",
      "execution_count": null,
      "outputs": []
    },
    {
      "cell_type": "code",
      "source": [
        "\n",
        "\n",
        "# Initialize the population with user input as a starting point\n",
        "def initialize_population_with_user_input(user_prompt, population_size, prompt_length):\n",
        "    population = []\n",
        "    user_words = nltk.word_tokenize(user_prompt.lower())\n",
        "\n",
        "    for _ in range(population_size):\n",
        "        # Create initial genes with user words and their synonyms\n",
        "        initial_genes = user_words + [get_synonym(word) for word in user_words for _ in range(prompt_length - len(user_words))]\n",
        "        population.append(Chromosome(initial_genes))\n",
        "    return population\n",
        "\n"
      ],
      "metadata": {
        "id": "57DZnya1Imrk"
      },
      "id": "57DZnya1Imrk",
      "execution_count": null,
      "outputs": []
    },
    {
      "cell_type": "code",
      "source": [
        "# Perform crossover between two parents to create two children\n",
        "def crossover(parent1, parent2):\n",
        "    crossover_point1 = random.randint(0, len(parent1.genes) // 3)\n",
        "    crossover_point2 = random.randint(len(parent1.genes) // 3, 2 * len(parent1.genes) // 3)\n",
        "\n",
        "    child_genes1 = (\n",
        "        parent1.genes[:crossover_point1] +\n",
        "        parent2.genes[crossover_point1:crossover_point2] +\n",
        "        parent1.genes[crossover_point2:]\n",
        "    )\n",
        "\n",
        "    child_genes2 = (\n",
        "        parent2.genes[:crossover_point1] +\n",
        "        parent1.genes[crossover_point1:crossover_point2] +\n",
        "        parent2.genes[crossover_point2:]\n",
        "    )\n",
        "\n",
        "    child1 = Chromosome(child_genes1)\n",
        "    child2 = Chromosome(child_genes2)\n",
        "    return child1, child2"
      ],
      "metadata": {
        "id": "4joowr-LImo7"
      },
      "id": "4joowr-LImo7",
      "execution_count": null,
      "outputs": []
    },
    {
      "cell_type": "code",
      "source": [
        "# Mutate a chromosome by changing a random word in the genes\n",
        "def mutate_word(word, user_words):\n",
        "    # Replace the word with a synonym if available, otherwise keep the original word\n",
        "    return get_synonym(word) if word in user_words else word\n",
        "\n",
        "# Mutate a chromosome by changing a random word in the genes\n",
        "def mutate(chromosome, user_words, mutation_probability=0.2):\n",
        "    mutated_genes = chromosome.genes.copy()\n",
        "\n",
        "    index_to_mutate = random.randint(0, len(mutated_genes) - 1)\n",
        "    mutated_genes[index_to_mutate] = mutate_word(mutated_genes[index_to_mutate], user_words)\n",
        "\n",
        "    mutated_chromosome = Chromosome(mutated_genes)\n",
        "    return mutated_chromosome"
      ],
      "metadata": {
        "id": "U0VguaOxImmz"
      },
      "id": "U0VguaOxImmz",
      "execution_count": null,
      "outputs": []
    },
    {
      "cell_type": "code",
      "source": [
        "# Calculate readability using textstat library\n",
        "def calculate_readability(text):\n",
        "    return textstat.flesch_reading_ease(text)"
      ],
      "metadata": {
        "id": "n0v0zWNTImkT"
      },
      "id": "n0v0zWNTImkT",
      "execution_count": null,
      "outputs": []
    },
    {
      "cell_type": "code",
      "source": [
        "# Fitness function evaluates the quality of a prompt\n",
        "def fitness_function(chromosome, tokenizer, model):\n",
        "    prompt = chromosome.to_prompt()\n",
        "    encoded_prompt = tokenizer(prompt, return_tensors=\"pt\")\n",
        "    output = model(**encoded_prompt)\n",
        "\n",
        "    # Extract ROUGE-L score and calculate readability\n",
        "    rouge_l = output.get('rouge', {}).get('rouge-l', {}).get('f', 0.0)\n",
        "    readability = calculate_readability(prompt)\n",
        "\n",
        "    # Combine scores based on weights\n",
        "    fitness = rouge_l * 0.6 + readability * 0.3 + DESIRED_OUTPUTS[\"human_score\"] * 0.1\n",
        "    return fitness"
      ],
      "metadata": {
        "id": "apgDepHJImh9"
      },
      "id": "apgDepHJImh9",
      "execution_count": null,
      "outputs": []
    },
    {
      "cell_type": "code",
      "source": [
        "# Get a synonym for a word using NLTK WordNet\n",
        "def get_synonym(word):\n",
        "    synonyms = set()\n",
        "    for syn in wordnet.synsets(word):\n",
        "        for lemma in syn.lemmas():\n",
        "            synonym = lemma.name()\n",
        "            if synonym != word:\n",
        "                synonyms.add(synonym)\n",
        "\n",
        "    return random.choice(list(synonyms)) if synonyms else word"
      ],
      "metadata": {
        "id": "oJu3pYKwImfU"
      },
      "id": "oJu3pYKwImfU",
      "execution_count": null,
      "outputs": []
    },
    {
      "cell_type": "code",
      "source": [
        "# Roulette wheel selection for choosing parents based on fitness\n",
        "def roulette_wheel_selection(population, fitness_scores):\n",
        "    total_fitness = sum(fitness_scores)\n",
        "    selection_probabilities = [score / total_fitness for score in fitness_scores]\n",
        "\n",
        "    selected_index = random.choices(range(len(population)), weights=selection_probabilities)[0]\n",
        "    return population[selected_index]"
      ],
      "metadata": {
        "id": "Mr1qbuiNImaD"
      },
      "id": "Mr1qbuiNImaD",
      "execution_count": null,
      "outputs": []
    },
    {
      "cell_type": "code",
      "source": [
        "# Plot the performance of the genetic algorithm over iterations\n",
        "def plot_performance(iterations, best_fitness_values):\n",
        "    plt.plot(iterations, best_fitness_values, marker='o')\n",
        "    plt.title('Genetic Algorithm Performance')\n",
        "    plt.xlabel('Generation')\n",
        "    plt.ylabel('Best Fitness')\n",
        "    plt.grid(True)\n",
        "    plt.show()"
      ],
      "metadata": {
        "id": "LnG6H4YfIzLI"
      },
      "id": "LnG6H4YfIzLI",
      "execution_count": null,
      "outputs": []
    },
    {
      "cell_type": "code",
      "source": [
        "# Get user input for the initial prompt\n",
        "initial_prompt = input(\"Enter an initial prompt: \")\n",
        "\n",
        "# Initialize the population with words from the user's prompt\n",
        "population_size = 30\n",
        "prompt_length = 15\n",
        "population = initialize_population_with_user_input(initial_prompt, population_size, prompt_length)\n",
        "\n",
        "# Load the pre-trained transformer model and tokenizer\n",
        "model_name = \"gpt2\"\n",
        "tokenizer = AutoTokenizer.from_pretrained(model_name)\n",
        "model = AutoModelForSequenceClassification.from_pretrained(model_name)\n",
        "\n",
        "# Run the genetic algorithm for a specified number of generations\n",
        "num_generations = 100\n",
        "mutation_probability = 0.5  # Define mutation probability here\n",
        "\n",
        "best_fitness_values = []\n",
        "average_fitness_values = []\n",
        "iterations = []\n",
        "\n",
        "\n",
        "\n",
        "\n",
        "for generation in range(num_generations):\n",
        "    fitness_scores = [fitness_function(c, tokenizer, model) for c in population]\n",
        "\n",
        "    new_population = []\n",
        "    generation_fitness_values = []  # Store fitness scores for all individuals in the generation\n",
        "    for _ in range(population_size):\n",
        "        parent1 = roulette_wheel_selection(population, fitness_scores)\n",
        "        parent2 = roulette_wheel_selection(population, fitness_scores)\n",
        "\n",
        "        child1, child2 = crossover(parent1, parent2)\n",
        "\n",
        "        # Mutate children with a certain probability\n",
        "        if random.uniform(0, 1) < mutation_probability:\n",
        "            child1 = mutate(child1, nltk.word_tokenize(initial_prompt.lower()))\n",
        "\n",
        "        if random.uniform(0, 1) < mutation_probability:\n",
        "            child2 = mutate(child2, nltk.word_tokenize(initial_prompt.lower()))\n",
        "\n",
        "        new_population.append(child1)\n",
        "        new_population.append(child2)\n",
        "\n",
        "        # Calculate fitness for the current individual in the generation\n",
        "        individual_fitness1 = fitness_function(child1, tokenizer, model)\n",
        "        individual_fitness2 = fitness_function(child2, tokenizer, model)\n",
        "        generation_fitness_values.extend([individual_fitness1, individual_fitness2])\n",
        "\n",
        "    population = new_population\n",
        "\n",
        "    # Find the best chromosome in the current population\n",
        "    best_chromosome = max(population, key=lambda c: fitness_function(c, tokenizer, model))\n",
        "    best_fitness = fitness_function(best_chromosome, tokenizer, model)\n",
        "\n",
        "    best_fitness_values.append(best_fitness)\n",
        "    average_fitness_values.append(sum(generation_fitness_values) / len(generation_fitness_values))\n",
        "    iterations.append(generation + 1)\n",
        "\n",
        "    print(f\"\\nGeneration {generation + 1}: Best fitness = {best_fitness}, Average fitness = {average_fitness_values[-1]}, Prompt = {best_chromosome.to_prompt()}\")\n",
        "\n",
        "\n"
      ],
      "metadata": {
        "id": "eqoNHRThIzIb"
      },
      "id": "eqoNHRThIzIb",
      "execution_count": null,
      "outputs": []
    },
    {
      "cell_type": "code",
      "source": [
        "plt.plot(iterations, best_fitness_values, marker='o', label='Best Fitness')\n",
        "plt.plot(iterations, average_fitness_values, marker='o', linestyle='dashed', label='Average Fitness')\n",
        "plt.title('Genetic Algorithm Performance')\n",
        "plt.xlabel('Generation')\n",
        "plt.ylabel('Fitness')\n",
        "plt.legend()\n",
        "plt.grid(True)\n",
        "plt.show()"
      ],
      "metadata": {
        "id": "rjyeEOguIzFs"
      },
      "id": "rjyeEOguIzFs",
      "execution_count": null,
      "outputs": []
    },
    {
      "cell_type": "code",
      "source": [],
      "metadata": {
        "id": "4EunFtCRIzC9"
      },
      "id": "4EunFtCRIzC9",
      "execution_count": null,
      "outputs": []
    }
  ],
  "metadata": {
    "kernelspec": {
      "display_name": "Python 3 (ipykernel)",
      "language": "python",
      "name": "python3"
    },
    "language_info": {
      "codemirror_mode": {
        "name": "ipython",
        "version": 3
      },
      "file_extension": ".py",
      "mimetype": "text/x-python",
      "name": "python",
      "nbconvert_exporter": "python",
      "pygments_lexer": "ipython3",
      "version": "3.11.5"
    },
    "colab": {
      "provenance": []
    }
  },
  "nbformat": 4,
  "nbformat_minor": 5
}